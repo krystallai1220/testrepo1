{
 "cells": [
  {
   "cell_type": "markdown",
   "id": "62b74f3a-0f9b-41bd-b456-4bc27f3ea10e",
   "metadata": {},
   "source": [
    "# My Jupyter Notebook on IBM Watson Studio"
   ]
  },
  {
   "cell_type": "markdown",
   "id": "daeb601a-b018-4538-92b8-4d3694f6e6b8",
   "metadata": {},
   "source": [
    "**Lai Yen Ling** <br>\n",
    "Data Scientist"
   ]
  },
  {
   "cell_type": "markdown",
   "id": "cc20d10a-b31a-45d7-b330-fdac60eb1fa1",
   "metadata": {},
   "source": [
    "*I am interested in Data Science because I love to gain insights from data*"
   ]
  },
  {
   "cell_type": "markdown",
   "id": "0e2fa351-e663-4c87-b4e0-623056ceaebe",
   "metadata": {},
   "source": [
    "The below code should perform additional math. "
   ]
  },
  {
   "cell_type": "code",
   "execution_count": 2,
   "id": "286b33e9-debd-4726-bfed-a96a948ba934",
   "metadata": {},
   "outputs": [
    {
     "data": {
      "text/plain": [
       "2"
      ]
     },
     "execution_count": 2,
     "metadata": {},
     "output_type": "execute_result"
    }
   ],
   "source": [
    "add = 1+1\n",
    "add"
   ]
  },
  {
   "cell_type": "markdown",
   "id": "ea3128ba-d303-44b0-89d3-c9d79e9cc867",
   "metadata": {},
   "source": [
    "- bulleted list <br>\n",
    "~strikethrough~\n",
    "> This is a blockquote"
   ]
  },
  {
   "cell_type": "code",
   "execution_count": null,
   "id": "cc31974c-9b7b-41f2-bd6d-c9aaf586a135",
   "metadata": {},
   "outputs": [],
   "source": []
  }
 ],
 "metadata": {
  "kernelspec": {
   "display_name": "Python",
   "language": "python",
   "name": "conda-env-python-py"
  },
  "language_info": {
   "codemirror_mode": {
    "name": "ipython",
    "version": 3
   },
   "file_extension": ".py",
   "mimetype": "text/x-python",
   "name": "python",
   "nbconvert_exporter": "python",
   "pygments_lexer": "ipython3",
   "version": "3.7.12"
  }
 },
 "nbformat": 4,
 "nbformat_minor": 5
}
